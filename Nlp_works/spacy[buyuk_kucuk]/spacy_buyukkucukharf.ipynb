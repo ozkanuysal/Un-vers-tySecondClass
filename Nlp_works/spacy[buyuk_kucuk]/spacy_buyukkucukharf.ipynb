{
 "cells": [
  {
   "cell_type": "code",
   "execution_count": 38,
   "metadata": {},
   "outputs": [
    {
     "name": "stderr",
     "output_type": "stream",
     "text": [
      "C:\\Users\\Ozkan\\Anaconda3\\envs\\Hello\\lib\\site-packages\\spacy\\util.py:275: UserWarning: [W031] Model 'en_core_web_sm' (2.2.0) requires spaCy v2.2 and is incompatible with the current spaCy version (2.3.5). This may lead to unexpected results or runtime errors. To resolve this, download a newer compatible model or retrain your custom model with the current spaCy version. For more details and available updates, run: python -m spacy validate\n",
      "  warnings.warn(warn_msg)\n"
     ]
    }
   ],
   "source": [
    "import spacy\n",
    "import en_core_web_sm\n",
    "nlp = en_core_web_sm.load()\n"
   ]
  },
  {
   "cell_type": "code",
   "execution_count": 12,
   "metadata": {},
   "outputs": [],
   "source": [
    "docx=nlp(\"Spacy is a cool tool\")"
   ]
  },
  {
   "cell_type": "code",
   "execution_count": 13,
   "metadata": {},
   "outputs": [
    {
     "data": {
      "text/plain": [
       "Spacy is a cool tool"
      ]
     },
     "execution_count": 13,
     "metadata": {},
     "output_type": "execute_result"
    }
   ],
   "source": [
    "docx"
   ]
  },
  {
   "cell_type": "code",
   "execution_count": 16,
   "metadata": {},
   "outputs": [],
   "source": [
    "docx2=nlp(u\"Spacy inanılmaz\")"
   ]
  },
  {
   "cell_type": "code",
   "execution_count": 17,
   "metadata": {},
   "outputs": [
    {
     "data": {
      "text/plain": [
       "Spacy inanılmaz"
      ]
     },
     "execution_count": 17,
     "metadata": {},
     "output_type": "execute_result"
    }
   ],
   "source": [
    "docx2"
   ]
  },
  {
   "cell_type": "code",
   "execution_count": 18,
   "metadata": {},
   "outputs": [],
   "source": [
    "myfile = open(\"examplefile.txt\").read()"
   ]
  },
  {
   "cell_type": "code",
   "execution_count": 19,
   "metadata": {},
   "outputs": [],
   "source": [
    "doc_file=nlp(myfile)"
   ]
  },
  {
   "cell_type": "code",
   "execution_count": 20,
   "metadata": {},
   "outputs": [
    {
     "data": {
      "text/plain": [
       "The best error message is the one that never shows up.\n",
       "Gates, currently a journalist in America, played with David Cotton in the final years of\n",
       "ies in Newcaste.\n",
       "\n",
       "Your Learn More From failure than from success.\n",
       "The purpose of software engineering is to control complexity, not to create it\n",
       "\n",
       "This is one of the most interesting programming books I have ever read, and it's so easy\n",
       "gth in and play with the NLTK. I have devoured this book.\n",
       "\n",
       "Although this text is available for free online through NLTK, it is an incredible resources\n",
       "ody trying to get started with NLP in Python. With only basic knowledge of Python and a \n",
       "his book, I was able to write a work application to identfy key themes in survey data\n",
       "rt of speech tagging and a custom built Regex parser. I highly recommend this text.\n",
       "\n",
       " "
      ]
     },
     "execution_count": 20,
     "metadata": {},
     "output_type": "execute_result"
    }
   ],
   "source": [
    "doc_file"
   ]
  },
  {
   "cell_type": "code",
   "execution_count": 22,
   "metadata": {},
   "outputs": [
    {
     "name": "stdout",
     "output_type": "stream",
     "text": [
      "0: The best error message is the one that never shows up.\n",
      "\n",
      "1: Gates, currently a journalist in America, played with David Cotton in the final years of\n",
      "ies in Newcaste.\n",
      "\n",
      "\n",
      "2: Your\n",
      "3: Learn More From failure than from success.\n",
      "\n",
      "4: The purpose of software engineering is to control complexity, not to create it\n",
      "\n",
      "\n",
      "5: This is one of the most interesting programming books I have ever read, and it's so easy\n",
      "gth in and play with the NLTK.\n",
      "6: I have devoured this book.\n",
      "\n",
      "\n",
      "7: Although this text is available for free online through NLTK, it is an incredible resources\n",
      "ody trying to get started with NLP in Python.\n",
      "8: With only basic knowledge of Python and a \n",
      "his book, I was able to write a work application to identfy key themes in survey data\n",
      "rt of speech tagging and a custom built Regex parser.\n",
      "9: I highly recommend this text.\n",
      "\n",
      " \n"
     ]
    }
   ],
   "source": [
    "for num,sentence in enumerate(doc_file.sents):\n",
    "    print(f'{num}: {sentence}')"
   ]
  },
  {
   "cell_type": "code",
   "execution_count": 24,
   "metadata": {},
   "outputs": [
    {
     "name": "stdout",
     "output_type": "stream",
     "text": [
      "Spacy\n",
      "is\n",
      "a\n",
      "cool\n",
      "tool\n"
     ]
    }
   ],
   "source": [
    "for token in docx:\n",
    "    print(token.text)"
   ]
  },
  {
   "cell_type": "code",
   "execution_count": 26,
   "metadata": {},
   "outputs": [
    {
     "data": {
      "text/plain": [
       "['Spacy', 'is', 'a', 'cool', 'tool']"
      ]
     },
     "execution_count": 26,
     "metadata": {},
     "output_type": "execute_result"
    }
   ],
   "source": [
    "[token.text for token in docx]"
   ]
  },
  {
   "cell_type": "code",
   "execution_count": 27,
   "metadata": {},
   "outputs": [
    {
     "data": {
      "text/plain": [
       "['Spacy', 'is', 'a', 'cool', 'tool']"
      ]
     },
     "execution_count": 27,
     "metadata": {},
     "output_type": "execute_result"
    }
   ],
   "source": [
    "docx.text.split(\" \")"
   ]
  },
  {
   "cell_type": "code",
   "execution_count": 33,
   "metadata": {},
   "outputs": [
    {
     "name": "stdout",
     "output_type": "stream",
     "text": [
      "Spacy 16072095006890171862\n",
      "is 4370460163704169311\n",
      "a 11123243248953317070\n",
      "cool 13110060611322374290\n",
      "tool 13110060611322374290\n"
     ]
    }
   ],
   "source": [
    "for word in docx:\n",
    "    print(word.text,word.shape)"
   ]
  },
  {
   "cell_type": "code",
   "execution_count": 34,
   "metadata": {},
   "outputs": [],
   "source": [
    "#şimdide nasıl ilk harf büyük mü küçük mü yazılmış onu görmek için"
   ]
  },
  {
   "cell_type": "code",
   "execution_count": 35,
   "metadata": {},
   "outputs": [
    {
     "name": "stdout",
     "output_type": "stream",
     "text": [
      "Spacy Xxxxx\n",
      "is xx\n",
      "a x\n",
      "cool xxxx\n",
      "tool xxxx\n"
     ]
    }
   ],
   "source": [
    "for word in docx:\n",
    "    print(word.text,word.shape_)"
   ]
  },
  {
   "cell_type": "code",
   "execution_count": 36,
   "metadata": {},
   "outputs": [],
   "source": [
    "extra_docx=nlp(\"Hello hello HELLO HeLLO\")"
   ]
  },
  {
   "cell_type": "code",
   "execution_count": 37,
   "metadata": {},
   "outputs": [
    {
     "name": "stdout",
     "output_type": "stream",
     "text": [
      "Token => Hello Shape  Xxxxx True False\n",
      "Token => hello Shape  xxxx True False\n",
      "Token => HELLO Shape  XXXX True False\n",
      "Token => HeLLO Shape  XxXXX True False\n"
     ]
    }
   ],
   "source": [
    "for word in extra_docx:\n",
    "    print(\"Token =>\",word.text,\"Shape \",word.shape_,word.is_alpha,word.is_stop)"
   ]
  },
  {
   "cell_type": "code",
   "execution_count": null,
   "metadata": {},
   "outputs": [],
   "source": []
  }
 ],
 "metadata": {
  "kernelspec": {
   "display_name": "Python 3",
   "language": "python",
   "name": "python3"
  },
  "language_info": {
   "codemirror_mode": {
    "name": "ipython",
    "version": 3
   },
   "file_extension": ".py",
   "mimetype": "text/x-python",
   "name": "python",
   "nbconvert_exporter": "python",
   "pygments_lexer": "ipython3",
   "version": "3.8.5"
  }
 },
 "nbformat": 4,
 "nbformat_minor": 4
}
