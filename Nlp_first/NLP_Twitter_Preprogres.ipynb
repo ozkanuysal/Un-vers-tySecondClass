{
 "cells": [
  {
   "cell_type": "code",
   "execution_count": 2,
   "metadata": {},
   "outputs": [],
   "source": [
    "import nltk\n",
    "from nltk.corpus import twitter_samples\n",
    "import matplotlib.pyplot as plt\n",
    "import random"
   ]
  },
  {
   "cell_type": "code",
   "execution_count": 3,
   "metadata": {},
   "outputs": [
    {
     "name": "stderr",
     "output_type": "stream",
     "text": [
      "[nltk_data] Downloading package twitter_samples to\n",
      "[nltk_data]     C:\\Users\\Ozkan\\AppData\\Roaming\\nltk_data...\n",
      "[nltk_data]   Unzipping corpora\\twitter_samples.zip.\n"
     ]
    },
    {
     "data": {
      "text/plain": [
       "True"
      ]
     },
     "execution_count": 3,
     "metadata": {},
     "output_type": "execute_result"
    }
   ],
   "source": [
    "nltk.download('twitter_samples')"
   ]
  },
  {
   "cell_type": "code",
   "execution_count": 8,
   "metadata": {},
   "outputs": [],
   "source": [
    "poz=twitter_samples.strings('positive_tweets.json')\n",
    "neg=poz=twitter_samples.strings('negative_tweets.json')"
   ]
  },
  {
   "cell_type": "code",
   "execution_count": 11,
   "metadata": {},
   "outputs": [
    {
     "name": "stdout",
     "output_type": "stream",
     "text": [
      "Pozitif tweet sayısı: 5000\n",
      "Negatif tweet sayısı: 5000\n",
      "Pozitiflerin tipi : <class 'list'>\n",
      "Girilen twittlerin tipi : <class 'str'>\n"
     ]
    }
   ],
   "source": [
    "#Ekrana yazdıralım\n",
    "print(\"Pozitif tweet sayısı:\",len(poz))\n",
    "print(\"Negatif tweet sayısı:\",len(neg))\n",
    "#Tipleri neler?\n",
    "print(\"Pozitiflerin tipi :\",type(poz))\n",
    "print(\"Negatif girilen twittlerin tipi :\",type(neg[0]))"
   ]
  },
  {
   "cell_type": "code",
   "execution_count": 17,
   "metadata": {},
   "outputs": [
    {
     "data": {
      "image/png": "[encoded data removed]",
      "text/plain": [
       "<Figure size 360x360 with 1 Axes>"
      ]
     },
     "metadata": {},
     "output_type": "display_data"
    }
   ],
   "source": [
    "#ekrana çizdilerim\n",
    "fig=plt.figure(figsize=(5,5))\n",
    "etıket='Pozitif','Negatif'\n",
    "boyut=[len(poz),len(neg)]\n",
    "plt.pie(boyut, autopct='%1.1f%%',shadow=True,startangle=90)\n",
    "plt.show()"
   ]
  },
  {
   "cell_type": "code",
   "execution_count": 24,
   "metadata": {},
   "outputs": [
    {
     "name": "stdout",
     "output_type": "stream",
     "text": [
      "Pozitif : u sound upset :( https://t.co/JZBFBKld8Q\n",
      "Negatif : I don't think so :( #zayniscomingback\n"
     ]
    }
   ],
   "source": [
    "#1 tane poz 1 tane neg tweet' rastgele şeklinde gelse\n",
    "print(\"Pozitif : \" + poz[random.randint(0,500)])\n",
    "print(\"Negatif : \"  + neg[random.randint(0,500)])"
   ]
  },
  {
   "cell_type": "code",
   "execution_count": 41,
   "metadata": {},
   "outputs": [
    {
     "name": "stdout",
     "output_type": "stream",
     "text": [
      "@LBHCRM hi beb :  ( i have a really bad migraine. sorry i wasn't on a lot today but i'm in a lot of pain : ( i'm gonna rest more. i love you\n"
     ]
    }
   ],
   "source": [
    "#Preprocess aşaması;\n",
    "tweet=poz[1277]\n",
    "print(tweet)"
   ]
  },
  {
   "cell_type": "code",
   "execution_count": 30,
   "metadata": {},
   "outputs": [
    {
     "name": "stderr",
     "output_type": "stream",
     "text": [
      "[nltk_data] Downloading package stopwords to\n",
      "[nltk_data]     C:\\Users\\Ozkan\\AppData\\Roaming\\nltk_data...\n",
      "[nltk_data]   Package stopwords is already up-to-date!\n"
     ]
    },
    {
     "data": {
      "text/plain": [
       "True"
      ]
     },
     "execution_count": 30,
     "metadata": {},
     "output_type": "execute_result"
    }
   ],
   "source": [
    "nltk.download('stopwords') #stopwords'leri indirelim;"
   ]
  },
  {
   "cell_type": "code",
   "execution_count": 31,
   "metadata": {},
   "outputs": [],
   "source": [
    "import re #regular expression\n",
    "import string\n",
    "from nltk.corpus import stopwords\n",
    "from nltk.stem import PorterStemmer\n",
    "from nltk.tokenize import TweetTokenizer\n",
    "#gerekli kütüphaneler import etik\n"
   ]
  },
  {
   "cell_type": "code",
   "execution_count": 45,
   "metadata": {},
   "outputs": [
    {
     "name": "stdout",
     "output_type": "stream",
     "text": [
      "Önceki hali : @LBHCRM hi beb :  ( i have a really bad migraine. sorry i wasn't on a lot today but i'm in a lot of pain : ( i'm gonna rest more. i love you\n",
      "@LBHCRM hi beb :  ( i have a really bad migraine. sorry i wasn't on a lot today but i'm in a lot of pain : ( i'm gonna rest more. i love you\n"
     ]
    }
   ],
   "source": [
    "# '#' olsun 'http' olsun 'RT' gibi olan kelimeleri kaldırmak için ön hazırlk\n",
    "print('Önceki hali : ' +tweet)\n",
    "tweet2=re.sub(r'^RT[\\s]+','',tweet)\n",
    "twwet2=re.sub(r'https?:\\/\\/.*[\\r\\n]*', '' , tweet2)\n",
    "tweet2=re.sub(r'#','',tweet2)\n",
    "print(tweet2)"
   ]
  },
  {
   "cell_type": "code",
   "execution_count": 50,
   "metadata": {},
   "outputs": [
    {
     "name": "stdout",
     "output_type": "stream",
     "text": [
      "['hi', 'beb', ':', '(', 'i', 'have', 'a', 'really', 'bad', 'migraine', '.', 'sorry', 'i', \"wasn't\", 'on', 'a', 'lot', 'today', 'but', \"i'm\", 'in', 'a', 'lot', 'of', 'pain', ':', '(', \"i'm\", 'gonna', 'rest', 'more', '.', 'i', 'love', 'you']\n"
     ]
    }
   ],
   "source": [
    "#Kelimeleri bölmek\n",
    "token=TweetTokenizer(preserve_case=False,strip_handles=True,reduce_len=True)\n",
    "tweet_token=token.tokenize(tweet2)\n",
    "print(tweet_token)\n",
    "#Kelime kelime token etti her şeyi noktalama dahil ,"
   ]
  },
  {
   "cell_type": "code",
   "execution_count": 52,
   "metadata": {},
   "outputs": [
    {
     "name": "stdout",
     "output_type": "stream",
     "text": [
      "['i', 'me', 'my', 'myself', 'we', 'our', 'ours', 'ourselves', 'you', \"you're\", \"you've\", \"you'll\", \"you'd\", 'your', 'yours', 'yourself', 'yourselves', 'he', 'him', 'his', 'himself', 'she', \"she's\", 'her', 'hers', 'herself', 'it', \"it's\", 'its', 'itself', 'they', 'them', 'their', 'theirs', 'themselves', 'what', 'which', 'who', 'whom', 'this', 'that', \"that'll\", 'these', 'those', 'am', 'is', 'are', 'was', 'were', 'be', 'been', 'being', 'have', 'has', 'had', 'having', 'do', 'does', 'did', 'doing', 'a', 'an', 'the', 'and', 'but', 'if', 'or', 'because', 'as', 'until', 'while', 'of', 'at', 'by', 'for', 'with', 'about', 'against', 'between', 'into', 'through', 'during', 'before', 'after', 'above', 'below', 'to', 'from', 'up', 'down', 'in', 'out', 'on', 'off', 'over', 'under', 'again', 'further', 'then', 'once', 'here', 'there', 'when', 'where', 'why', 'how', 'all', 'any', 'both', 'each', 'few', 'more', 'most', 'other', 'some', 'such', 'no', 'nor', 'not', 'only', 'own', 'same', 'so', 'than', 'too', 'very', 's', 't', 'can', 'will', 'just', 'don', \"don't\", 'should', \"should've\", 'now', 'd', 'll', 'm', 'o', 're', 've', 'y', 'ain', 'aren', \"aren't\", 'couldn', \"couldn't\", 'didn', \"didn't\", 'doesn', \"doesn't\", 'hadn', \"hadn't\", 'hasn', \"hasn't\", 'haven', \"haven't\", 'isn', \"isn't\", 'ma', 'mightn', \"mightn't\", 'mustn', \"mustn't\", 'needn', \"needn't\", 'shan', \"shan't\", 'shouldn', \"shouldn't\", 'wasn', \"wasn't\", 'weren', \"weren't\", 'won', \"won't\", 'wouldn', \"wouldn't\"]\n"
     ]
    }
   ],
   "source": [
    "#stopwordleri ele alalım\n",
    "stopwords_english=stopwords.words('english')\n",
    "print(stopwords_english)"
   ]
  },
  {
   "cell_type": "code",
   "execution_count": 53,
   "metadata": {},
   "outputs": [
    {
     "name": "stdout",
     "output_type": "stream",
     "text": [
      "['hi', 'beb', 'really', 'bad', 'migraine', 'sorry', 'lot', 'today', \"i'm\", 'lot', 'pain', \"i'm\", 'gonna', 'rest', 'love']\n"
     ]
    }
   ],
   "source": [
    "temiz=[]\n",
    "for word in tweet_token:\n",
    "    if(word not in stopwords_english and\n",
    "      word not in string.punctuation):\n",
    "        temiz.append(word)\n",
    "\n",
    "print(temiz)        \n",
    "#kelimeler eksildi."
   ]
  },
  {
   "cell_type": "code",
   "execution_count": 55,
   "metadata": {},
   "outputs": [
    {
     "name": "stdout",
     "output_type": "stream",
     "text": [
      "['hi', 'beb', 'realli', 'bad', 'migrain', 'sorri', 'lot', 'today', \"i'm\", 'lot', 'pain', \"i'm\", 'gonna', 'rest', 'love']\n"
     ]
    }
   ],
   "source": [
    "#Stemming aşaması aynı kelimelere eklenen ekler gibi düşün\n",
    "stem=PorterStemmer()\n",
    "tweet_stem=[]\n",
    "for word in temiz:\n",
    "    stem_word=stem.stem(word) #stemming word\n",
    "    tweet_stem.append(stem_word) #append to the list\n",
    "    \n",
    "print(tweet_stem)\n",
    "\n",
    "#örnek realli almış migrain almış sondaki kelimeleri atmış oluyor örnekte açıklandığı gibi"
   ]
  },
  {
   "cell_type": "code",
   "execution_count": null,
   "metadata": {},
   "outputs": [],
   "source": []
  }
 ],
 "metadata": {
  "kernelspec": {
   "display_name": "Python 3",
   "language": "python",
   "name": "python3"
  },
  "language_info": {
   "codemirror_mode": {
    "name": "ipython",
    "version": 3
   },
   "file_extension": ".py",
   "mimetype": "text/x-python",
   "name": "python",
   "nbconvert_exporter": "python",
   "pygments_lexer": "ipython3",
   "version": "3.7.4"
  }
 },
 "nbformat": 4,
 "nbformat_minor": 2
}
