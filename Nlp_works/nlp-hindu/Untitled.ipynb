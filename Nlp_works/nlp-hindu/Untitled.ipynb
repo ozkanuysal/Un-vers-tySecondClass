{
 "cells": [
  {
   "cell_type": "code",
   "execution_count": 2,
   "metadata": {},
   "outputs": [],
   "source": [
    "import pandas as pd\n",
    "from googletrans import Translator"
   ]
  },
  {
   "cell_type": "code",
   "execution_count": 3,
   "metadata": {},
   "outputs": [],
   "source": [
    "data=pd.read_csv(\"hindi.csv\")"
   ]
  },
  {
   "cell_type": "code",
   "execution_count": 4,
   "metadata": {},
   "outputs": [
    {
     "name": "stdout",
     "output_type": "stream",
     "text": [
      "  Vegetable Names\n",
      "0           गाजर \n",
      "1     शिमला मिर्च\n",
      "2         भिन्डी \n",
      "3          मक्का \n",
      "4       लाल मिर्च\n",
      "5           खीरा \n",
      "6       कढ़ी पत्ता\n",
      "7           बैगन \n",
      "8          लहसुन \n",
      "9           अदरक \n"
     ]
    }
   ],
   "source": [
    "print(data)"
   ]
  },
  {
   "cell_type": "code",
   "execution_count": 7,
   "metadata": {},
   "outputs": [
    {
     "data": {
      "text/plain": [
       "(10, 1)"
      ]
     },
     "execution_count": 7,
     "metadata": {},
     "output_type": "execute_result"
    }
   ],
   "source": [
    "data.shape"
   ]
  },
  {
   "cell_type": "code",
   "execution_count": 12,
   "metadata": {},
   "outputs": [],
   "source": [
    "translator = Translator()\n",
    "translations = {}\n",
    "for column in data.columns:\n",
    "    unique = data[column].unique()\n",
    "for i in translations.items():\n",
    "    print(i)"
   ]
  },
  {
   "cell_type": "code",
   "execution_count": 13,
   "metadata": {},
   "outputs": [
    {
     "name": "stdout",
     "output_type": "stream",
     "text": [
      "  Vegetable Names\n",
      "0           गाजर \n",
      "1     शिमला मिर्च\n",
      "2         भिन्डी \n",
      "3          मक्का \n",
      "4       लाल मिर्च\n",
      "5           खीरा \n",
      "6       कढ़ी पत्ता\n",
      "7           बैगन \n",
      "8          लहसुन \n",
      "9           अदरक \n"
     ]
    }
   ],
   "source": [
    "data.replace(translations, inplace=True)\n",
    "print(data)"
   ]
  },
  {
   "cell_type": "code",
   "execution_count": null,
   "metadata": {},
   "outputs": [],
   "source": []
  }
 ],
 "metadata": {
  "kernelspec": {
   "display_name": "Python 3",
   "language": "python",
   "name": "python3"
  },
  "language_info": {
   "codemirror_mode": {
    "name": "ipython",
    "version": 3
   },
   "file_extension": ".py",
   "mimetype": "text/x-python",
   "name": "python",
   "nbconvert_exporter": "python",
   "pygments_lexer": "ipython3",
   "version": "3.8.5"
  }
 },
 "nbformat": 4,
 "nbformat_minor": 4
}
